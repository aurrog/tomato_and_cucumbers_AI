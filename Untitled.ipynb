{
 "cells": [
  {
   "cell_type": "code",
   "execution_count": 1,
   "id": "df310aea",
   "metadata": {},
   "outputs": [],
   "source": [
    "import numpy as np\n"
   ]
  },
  {
   "cell_type": "code",
   "execution_count": 2,
   "id": "6183040a",
   "metadata": {},
   "outputs": [],
   "source": [
    "import pip"
   ]
  },
  {
   "cell_type": "code",
   "execution_count": 3,
   "id": "4bdd7640",
   "metadata": {},
   "outputs": [
    {
     "data": {
      "text/plain": [
       "typing.List"
      ]
     },
     "execution_count": 3,
     "metadata": {},
     "output_type": "execute_result"
    }
   ],
   "source": [
    "pip.List"
   ]
  },
  {
   "cell_type": "code",
   "execution_count": 4,
   "id": "cfe4f5a6",
   "metadata": {},
   "outputs": [
    {
     "data": {
      "text/plain": [
       "<function pip.main(args: Optional[List[str]] = None) -> int>"
      ]
     },
     "execution_count": 4,
     "metadata": {},
     "output_type": "execute_result"
    }
   ],
   "source": [
    "pip.main"
   ]
  },
  {
   "cell_type": "code",
   "execution_count": 5,
   "id": "ef94adae",
   "metadata": {},
   "outputs": [
    {
     "data": {
      "text/plain": [
       "typing.Optional"
      ]
     },
     "execution_count": 5,
     "metadata": {},
     "output_type": "execute_result"
    }
   ],
   "source": [
    "pip.Optional"
   ]
  },
  {
   "cell_type": "code",
   "execution_count": null,
   "id": "ae05d536",
   "metadata": {},
   "outputs": [],
   "source": [
    "import matplotlib.pyplot as plt\n"
   ]
  }
 ],
 "metadata": {
  "kernelspec": {
   "display_name": "Python 3 (ipykernel)",
   "language": "python",
   "name": "python3"
  },
  "language_info": {
   "codemirror_mode": {
    "name": "ipython",
    "version": 3
   },
   "file_extension": ".py",
   "mimetype": "text/x-python",
   "name": "python",
   "nbconvert_exporter": "python",
   "pygments_lexer": "ipython3",
   "version": "3.10.4"
  }
 },
 "nbformat": 4,
 "nbformat_minor": 5
}
